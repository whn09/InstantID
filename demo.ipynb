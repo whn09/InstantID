{
 "cells": [
  {
   "cell_type": "code",
   "execution_count": null,
   "id": "44630daa-2e15-4757-864d-7ae22d7663c4",
   "metadata": {
    "scrolled": true,
    "tags": []
   },
   "outputs": [],
   "source": [
    "!pip install huggingface_hub"
   ]
  },
  {
   "cell_type": "code",
   "execution_count": null,
   "id": "6da3210c-ac43-4a3a-a952-843bb544981a",
   "metadata": {
    "scrolled": true,
    "tags": []
   },
   "outputs": [],
   "source": [
    "!pip install opencv-python transformers accelerate insightface diffusers onnxruntime"
   ]
  },
  {
   "cell_type": "code",
   "execution_count": null,
   "id": "fc82a7bb-871f-4d03-863f-779342f7832a",
   "metadata": {
    "tags": []
   },
   "outputs": [],
   "source": [
    "import os\n",
    "os.environ['TRANSFORMERS_CACHE'] = '/home/ec2-user/SageMaker/.cache'"
   ]
  },
  {
   "cell_type": "code",
   "execution_count": null,
   "id": "8251f30a-930b-4c04-9672-8352eb392233",
   "metadata": {
    "tags": []
   },
   "outputs": [],
   "source": [
    "from huggingface_hub import hf_hub_download\n",
    "hf_hub_download(repo_id=\"InstantX/InstantID\", filename=\"ControlNetModel/config.json\", local_dir=\"./checkpoints\")\n",
    "hf_hub_download(repo_id=\"InstantX/InstantID\", filename=\"ControlNetModel/diffusion_pytorch_model.safetensors\", local_dir=\"./checkpoints\")\n",
    "hf_hub_download(repo_id=\"InstantX/InstantID\", filename=\"ip-adapter.bin\", local_dir=\"./checkpoints\")"
   ]
  },
  {
   "cell_type": "code",
   "execution_count": null,
   "id": "572fedff-a70e-4195-99ac-de456cb2da8d",
   "metadata": {
    "tags": []
   },
   "outputs": [],
   "source": [
    "import diffusers\n",
    "from diffusers.utils import load_image\n",
    "from diffusers.models import ControlNetModel\n",
    "\n",
    "import cv2\n",
    "import torch\n",
    "import numpy as np\n",
    "from PIL import Image\n",
    "\n",
    "from insightface.app import FaceAnalysis\n",
    "from pipeline_stable_diffusion_xl_instantid import StableDiffusionXLInstantIDPipeline, draw_kps\n",
    "\n",
    "# prepare 'antelopev2' under ./models\n",
    "app = FaceAnalysis(name='buffalo_l', root='./', providers=['CUDAExecutionProvider', 'CPUExecutionProvider'])\n",
    "app.prepare(ctx_id=0, det_size=(640, 640))\n",
    "\n",
    "# prepare models under ./checkpoints\n",
    "face_adapter = f'./checkpoints/ip-adapter.bin'\n",
    "controlnet_path = f'./checkpoints/ControlNetModel'\n",
    "\n",
    "# load IdentityNet\n",
    "controlnet = ControlNetModel.from_pretrained(controlnet_path, torch_dtype=torch.float16)\n",
    "\n",
    "base_model = 'wangqixun/YamerMIX_v8'  # from https://civitai.com/models/84040?modelVersionId=196039\n",
    "pipe = StableDiffusionXLInstantIDPipeline.from_pretrained(\n",
    "    base_model,\n",
    "    controlnet=controlnet,\n",
    "    torch_dtype=torch.float16\n",
    ")\n",
    "pipe.cuda()\n",
    "\n",
    "# load adapter\n",
    "pipe.load_ip_adapter_instantid(face_adapter)"
   ]
  },
  {
   "cell_type": "code",
   "execution_count": null,
   "id": "68fbed98-4f05-45af-b791-704a10168dc3",
   "metadata": {},
   "outputs": [],
   "source": [
    "# load an image\n",
    "face_image = load_image(\"./examples/yann-lecun_resize.jpg\")\n",
    "\n",
    "# prepare face emb\n",
    "face_info = app.get(cv2.cvtColor(np.array(face_image), cv2.COLOR_RGB2BGR))\n",
    "face_info = sorted(face_info, key=lambda x:(x['bbox'][2]-x['bbox'][0])*x['bbox'][3]-x['bbox'][1])[-1]  # only use the maximum face\n",
    "face_emb = face_info['embedding']\n",
    "face_kps = draw_kps(face_image, face_info['kps'])\n",
    "\n",
    "# prompt\n",
    "prompt = \"film noir style, ink sketch|vector, male man, highly detailed, sharp focus, ultra sharpness, monochrome, high contrast, dramatic shadows, 1940s style, mysterious, cinematic\"\n",
    "negative_prompt = \"ugly, deformed, noisy, blurry, low contrast, realism, photorealistic, vibrant, colorful\"\n",
    "\n",
    "# generate image\n",
    "image = pipe(\n",
    "    prompt,\n",
    "    image_embeds=face_emb,\n",
    "    image=face_kps,\n",
    "    controlnet_conditioning_scale=0.8,\n",
    "    ip_adapter_scale=0.8,\n",
    ").images[0]"
   ]
  },
  {
   "cell_type": "code",
   "execution_count": null,
   "id": "083f96e4-f305-4887-a03a-8130a713cc6c",
   "metadata": {
    "tags": []
   },
   "outputs": [],
   "source": [
    "image"
   ]
  },
  {
   "cell_type": "code",
   "execution_count": null,
   "id": "82a3af1e-cd09-424d-8f64-63cb2e7d5843",
   "metadata": {
    "scrolled": true,
    "tags": []
   },
   "outputs": [],
   "source": [
    "!pip install -r gradio_demo/requirements.txt"
   ]
  },
  {
   "cell_type": "code",
   "execution_count": null,
   "id": "cd8f38c9-4669-4307-b9d6-479ac704507b",
   "metadata": {
    "scrolled": true,
    "tags": []
   },
   "outputs": [],
   "source": [
    "!python gradio_demo/app.py"
   ]
  },
  {
   "cell_type": "code",
   "execution_count": null,
   "id": "3be104ba-26fb-48a1-8957-231a0fe51f75",
   "metadata": {},
   "outputs": [],
   "source": []
  }
 ],
 "metadata": {
  "kernelspec": {
   "display_name": "conda_pytorch_p310",
   "language": "python",
   "name": "conda_pytorch_p310"
  },
  "language_info": {
   "codemirror_mode": {
    "name": "ipython",
    "version": 3
   },
   "file_extension": ".py",
   "mimetype": "text/x-python",
   "name": "python",
   "nbconvert_exporter": "python",
   "pygments_lexer": "ipython3",
   "version": "3.10.13"
  }
 },
 "nbformat": 4,
 "nbformat_minor": 5
}
